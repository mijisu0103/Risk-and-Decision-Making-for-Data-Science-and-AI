{
 "cells": [
  {
   "cell_type": "markdown",
   "metadata": {},
   "source": [
    "### PyAgrum Demo"
   ]
  },
  {
   "cell_type": "markdown",
   "metadata": {},
   "source": [
    "Import the PyAgrum package"
   ]
  },
  {
   "cell_type": "code",
   "execution_count": 1,
   "metadata": {},
   "outputs": [],
   "source": [
    "import pyAgrum as gum"
   ]
  },
  {
   "cell_type": "markdown",
   "metadata": {},
   "source": [
    "Create an empty BN network"
   ]
  },
  {
   "cell_type": "code",
   "execution_count": 2,
   "metadata": {},
   "outputs": [
    {
     "name": "stdout",
     "output_type": "stream",
     "text": [
      "BN{nodes: 0, arcs: 0, domainSize: 1, dim: 0, mem: 0o}\n"
     ]
    }
   ],
   "source": [
    "bn=gum.BayesNet('Demo')\n",
    "print(bn)"
   ]
  },
  {
   "cell_type": "markdown",
   "metadata": {},
   "source": [
    "### Create the variables\n",
    "\n",
    "pyAgrum provides 4 types of variables :\n",
    "\n",
    "- LabelizedVariable\n",
    "- RangeVariable\n",
    "- IntegerVariable\n",
    "- DiscretizedVariable\n"
   ]
  },
  {
   "cell_type": "code",
   "execution_count": 3,
   "metadata": {},
   "outputs": [
    {
     "name": "stdout",
     "output_type": "stream",
     "text": [
      "0\n",
      "1\n",
      "2\n",
      "3\n",
      "BN{nodes: 4, arcs: 0, domainSize: 16, dim: 4, mem: 64o}\n"
     ]
    }
   ],
   "source": [
    "s=bn.add(gum.LabelizedVariable('Smoking','Smoking', ['no','yes']))\n",
    "c=bn.add(gum.LabelizedVariable('Lung_Cancer','Lung_Cancer', ['no','yes']))\n",
    "b=bn.add(gum.LabelizedVariable('Bronchitis','Bronchitis', ['no','yes']))\n",
    "d=bn.add(gum.LabelizedVariable('Dyspnoea','Dyspnoea', ['no','yes']))\n",
    "print(s)\n",
    "print(c)\n",
    "print(b)\n",
    "print(d)\n",
    "print(bn)\n"
   ]
  },
  {
   "cell_type": "markdown",
   "metadata": {},
   "source": [
    "### Create arcs\n"
   ]
  },
  {
   "cell_type": "code",
   "execution_count": 4,
   "metadata": {},
   "outputs": [
    {
     "name": "stdout",
     "output_type": "stream",
     "text": [
      "BN{nodes: 4, arcs: 4, domainSize: 16, dim: 9, mem: 144o}\n"
     ]
    }
   ],
   "source": [
    "for link in [(s,c),(s,b),(b,d),(c,d)]:\n",
    "    bn.addArc(*link)\n",
    "print(bn)"
   ]
  },
  {
   "cell_type": "markdown",
   "metadata": {},
   "source": [
    "pyAgrum provides tools to display <tt>bn</tt> in more user-frendly fashions. <br/>Notably, <tt>pyAgrum.lib</tt> is a set of tools written in pyAgrum to help using aGrUM in python. <tt>pyAgrum.lib.notebook</tt> adds dedicated functions for iPython notebook."
   ]
  },
  {
   "cell_type": "code",
   "execution_count": 5,
   "metadata": {},
   "outputs": [
    {
     "data": {
      "text/html": [
       "<svg xmlns=\"http://www.w3.org/2000/svg\" xmlns:xlink=\"http://www.w3.org/1999/xlink\" width=\"246pt\" height=\"188pt\" viewBox=\"0.00 0.00 245.61 188.00\">\n",
       "<g id=\"graph0\" class=\"graph\" transform=\"scale(1 1) rotate(0) translate(4 184)\">\n",
       "<title>G</title>\n",
       "<!-- Bronchitis -->\n",
       "<g id=\"node1\" class=\"node\">\n",
       "<title>Bronchitis</title>\n",
       "<g id=\"a_node1\"><a xlink:title=\"(2) Bronchitis\">\n",
       "<ellipse fill=\"#404040\" stroke=\"black\" cx=\"48.57\" cy=\"-90\" rx=\"48.57\" ry=\"18\"/>\n",
       "<text text-anchor=\"middle\" x=\"48.57\" y=\"-84.58\" font-family=\"Times New Roman,serif\" font-size=\"14.00\" fill=\"white\">Bronchitis</text>\n",
       "</a>\n",
       "</g>\n",
       "</g>\n",
       "<!-- Dyspnoea -->\n",
       "<g id=\"node2\" class=\"node\">\n",
       "<title>Dyspnoea</title>\n",
       "<g id=\"a_node2\"><a xlink:title=\"(3) Dyspnoea\">\n",
       "<ellipse fill=\"#404040\" stroke=\"black\" cx=\"112.57\" cy=\"-18\" rx=\"48.07\" ry=\"18\"/>\n",
       "<text text-anchor=\"middle\" x=\"112.57\" y=\"-12.57\" font-family=\"Times New Roman,serif\" font-size=\"14.00\" fill=\"white\">Dyspnoea</text>\n",
       "</a>\n",
       "</g>\n",
       "</g>\n",
       "<!-- Bronchitis&#45;&gt;Dyspnoea -->\n",
       "<g id=\"edge4\" class=\"edge\">\n",
       "<title>Bronchitis-&gt;Dyspnoea</title>\n",
       "<g id=\"a_edge4\"><a xlink:title=\"2 → 3\">\n",
       "<path fill=\"none\" stroke=\"#4a4a4a\" d=\"M63.74,-72.41C71.55,-63.87 81.23,-53.28 89.91,-43.79\"/>\n",
       "<polygon fill=\"#4a4a4a\" stroke=\"#4a4a4a\" points=\"92.32,-46.33 96.49,-36.59 87.16,-41.61 92.32,-46.33\"/>\n",
       "</a>\n",
       "</g>\n",
       "</g>\n",
       "<!-- Lung_Cancer -->\n",
       "<g id=\"node3\" class=\"node\">\n",
       "<title>Lung_Cancer</title>\n",
       "<g id=\"a_node3\"><a xlink:title=\"(1) Lung_Cancer\">\n",
       "<ellipse fill=\"#404040\" stroke=\"black\" cx=\"176.57\" cy=\"-90\" rx=\"61.04\" ry=\"18\"/>\n",
       "<text text-anchor=\"middle\" x=\"176.57\" y=\"-84.58\" font-family=\"Times New Roman,serif\" font-size=\"14.00\" fill=\"white\">Lung_Cancer</text>\n",
       "</a>\n",
       "</g>\n",
       "</g>\n",
       "<!-- Lung_Cancer&#45;&gt;Dyspnoea -->\n",
       "<g id=\"edge2\" class=\"edge\">\n",
       "<title>Lung_Cancer-&gt;Dyspnoea</title>\n",
       "<g id=\"a_edge2\"><a xlink:title=\"1 → 3\">\n",
       "<path fill=\"none\" stroke=\"#4a4a4a\" d=\"M161.4,-72.41C153.59,-63.87 143.91,-53.28 135.23,-43.79\"/>\n",
       "<polygon fill=\"#4a4a4a\" stroke=\"#4a4a4a\" points=\"137.98,-41.61 128.65,-36.59 132.81,-46.33 137.98,-41.61\"/>\n",
       "</a>\n",
       "</g>\n",
       "</g>\n",
       "<!-- Smoking -->\n",
       "<g id=\"node4\" class=\"node\">\n",
       "<title>Smoking</title>\n",
       "<g id=\"a_node4\"><a xlink:title=\"(0) Smoking\">\n",
       "<ellipse fill=\"#404040\" stroke=\"black\" cx=\"112.57\" cy=\"-162\" rx=\"43.58\" ry=\"18\"/>\n",
       "<text text-anchor=\"middle\" x=\"112.57\" y=\"-156.57\" font-family=\"Times New Roman,serif\" font-size=\"14.00\" fill=\"white\">Smoking</text>\n",
       "</a>\n",
       "</g>\n",
       "</g>\n",
       "<!-- Smoking&#45;&gt;Bronchitis -->\n",
       "<g id=\"edge3\" class=\"edge\">\n",
       "<title>Smoking-&gt;Bronchitis</title>\n",
       "<g id=\"a_edge3\"><a xlink:title=\"0 → 2\">\n",
       "<path fill=\"none\" stroke=\"#4a4a4a\" d=\"M97.73,-144.76C89.81,-136.11 79.9,-125.27 71.06,-115.6\"/>\n",
       "<polygon fill=\"#4a4a4a\" stroke=\"#4a4a4a\" points=\"73.68,-113.28 64.35,-108.26 68.52,-118.01 73.68,-113.28\"/>\n",
       "</a>\n",
       "</g>\n",
       "</g>\n",
       "<!-- Smoking&#45;&gt;Lung_Cancer -->\n",
       "<g id=\"edge1\" class=\"edge\">\n",
       "<title>Smoking-&gt;Lung_Cancer</title>\n",
       "<g id=\"a_edge1\"><a xlink:title=\"0 → 1\">\n",
       "<path fill=\"none\" stroke=\"#4a4a4a\" d=\"M127.41,-144.76C135.22,-136.23 144.95,-125.58 153.69,-116.02\"/>\n",
       "<polygon fill=\"#4a4a4a\" stroke=\"#4a4a4a\" points=\"156.18,-118.49 160.34,-108.75 151.01,-113.77 156.18,-118.49\"/>\n",
       "</a>\n",
       "</g>\n",
       "</g>\n",
       "</g>\n",
       "</svg>"
      ],
      "text/plain": [
       "(pyAgrum.BayesNet<double>@00000252AF5220C0) BN{nodes: 4, arcs: 4, domainSize: 16, dim: 9, mem: 144o}"
      ]
     },
     "execution_count": 5,
     "metadata": {},
     "output_type": "execute_result"
    }
   ],
   "source": [
    "import pyAgrum.lib.notebook as gnb\n",
    "bn"
   ]
  },
  {
   "cell_type": "markdown",
   "metadata": {},
   "source": [
    "### Create the probability tables\n",
    "\n",
    "Once the network topology is constructed, we must initialize the conditional probability tables (CPT) distributions.\n",
    "Each CPT is considered as a Potential object in pyAgrum. There are several ways to fill such an object.<br/>\n",
    "\n",
    "To get the CPT of a variable, use the cpt method of your BayesNet instance with the variable's id as parameter.<br/>\n",
    "\n",
    "Now we are ready to fill in the parameters of each node in our network. "
   ]
  },
  {
   "cell_type": "code",
   "execution_count": 6,
   "metadata": {},
   "outputs": [
    {
     "data": {
      "text/html": [
       "<table style=\"border:1px solid black;\">\n",
       "<tr style='border:1px solid black;color:black;background-color:#808080'>\n",
       "      <th colspan='2'><center>Smoking</center></th></tr>\n",
       "<tr><th style='border:1px solid black;border-bottom-style: double;color:black;background-color:#BBBBBB'>\n",
       "      <center>no</center></th><th style='border:1px solid black;border-bottom-style: double;color:black;background-color:#BBBBBB'>\n",
       "      <center>yes</center></th></tr>\n",
       "<tr><td style='color:black;background-color:#bfbf64;text-align:right;'>0.5000</td><td style='color:black;background-color:#bfbf64;text-align:right;'>0.5000</td></tr>\n",
       "</table>"
      ],
      "text/plain": [
       "(pyAgrum.Potential<double>@00000252AF6910D0) \n",
       "  Smoking          |\n",
       "no       |yes      |\n",
       "---------|---------|\n",
       " 0.5000  | 0.5000  |"
      ]
     },
     "execution_count": 6,
     "metadata": {},
     "output_type": "execute_result"
    }
   ],
   "source": [
    "bn.cpt(s).fillWith([0.5,0.5])"
   ]
  },
  {
   "cell_type": "code",
   "execution_count": 7,
   "metadata": {},
   "outputs": [
    {
     "data": {
      "text/html": [
       "<table style=\"border:1px solid black;\">\n",
       "<tr><th colspan='1'></th>\n",
       "      <th colspan='2' style='border:1px solid black;color:black;background-color:#808080;'><center>Lung_Cancer</center>\n",
       "      </th></tr>\n",
       "<tr><th style='border:1px solid black;color:black;background-color:#808080'><center>Smoking</center></th><th style='border:1px solid black;border-bottom-style: double;color:black;background-color:#BBBBBB'>\n",
       "      <center>no</center></th><th style='border:1px solid black;border-bottom-style: double;color:black;background-color:#BBBBBB'>\n",
       "      <center>yes</center></th></tr>\n",
       "<tr><th style='border:1px solid black;color:black;background-color:#BBBBBB'><center>no</center></th><td style='color:black;background-color:#80fd64;text-align:right;'>0.9900</td><td style='color:black;background-color:#fd8064;text-align:right;'>0.0100</td></tr>\n",
       "<tr><th style='border:1px solid black;color:black;background-color:#BBBBBB'><center>yes</center></th><td style='color:black;background-color:#8bf264;text-align:right;'>0.9000</td><td style='color:black;background-color:#f28b64;text-align:right;'>0.1000</td></tr>\n",
       "</table>"
      ],
      "text/plain": [
       "(pyAgrum.Potential<double>@00000252AAC3C630) \n",
       "      ||  Lung_Cancer      |\n",
       "Smokin||no       |yes      |\n",
       "------||---------|---------|\n",
       "no    || 0.9900  | 0.0100  |\n",
       "yes   || 0.9000  | 0.1000  |"
      ]
     },
     "execution_count": 7,
     "metadata": {},
     "output_type": "execute_result"
    }
   ],
   "source": [
    "bn.cpt(c)[:]=[ [0.99,0.01],[0.9,0.1]]\n",
    "bn.cpt(c)"
   ]
  },
  {
   "cell_type": "code",
   "execution_count": 8,
   "metadata": {},
   "outputs": [
    {
     "data": {
      "text/html": [
       "<table style=\"border:1px solid black;\">\n",
       "<tr><th colspan='1'></th>\n",
       "      <th colspan='2' style='border:1px solid black;color:black;background-color:#808080;'><center>Bronchitis</center>\n",
       "      </th></tr>\n",
       "<tr><th style='border:1px solid black;color:black;background-color:#808080'><center>Smoking</center></th><th style='border:1px solid black;border-bottom-style: double;color:black;background-color:#BBBBBB'>\n",
       "      <center>no</center></th><th style='border:1px solid black;border-bottom-style: double;color:black;background-color:#BBBBBB'>\n",
       "      <center>yes</center></th></tr>\n",
       "<tr><th style='border:1px solid black;color:black;background-color:#BBBBBB'><center>no</center></th><td style='color:black;background-color:#a5d864;text-align:right;'>0.7000</td><td style='color:black;background-color:#d8a564;text-align:right;'>0.3000</td></tr>\n",
       "<tr><th style='border:1px solid black;color:black;background-color:#BBBBBB'><center>yes</center></th><td style='color:black;background-color:#cbb264;text-align:right;'>0.4000</td><td style='color:black;background-color:#b2cb64;text-align:right;'>0.6000</td></tr>\n",
       "</table>"
      ],
      "text/plain": [
       "(pyAgrum.Potential<double>@00000252AAC3C850) \n",
       "      ||  Bronchitis       |\n",
       "Smokin||no       |yes      |\n",
       "------||---------|---------|\n",
       "no    || 0.7000  | 0.3000  |\n",
       "yes   || 0.4000  | 0.6000  |"
      ]
     },
     "execution_count": 8,
     "metadata": {},
     "output_type": "execute_result"
    }
   ],
   "source": [
    "bn.cpt(b)[:]=[ [0.7,0.3],[0.4,0.6]]\n",
    "bn.cpt(b)"
   ]
  },
  {
   "cell_type": "code",
   "execution_count": 9,
   "metadata": {},
   "outputs": [
    {
     "data": {
      "text/html": [
       "<table style=\"border:1px solid black;\">\n",
       "<tr><th colspan='2'></th>\n",
       "      <th colspan='2' style='border:1px solid black;color:black;background-color:#808080;'><center>Dyspnoea</center>\n",
       "      </th></tr>\n",
       "<tr><th style='border:1px solid black;color:black;background-color:#808080'><center>Lung_Cancer</center></th><th style='border:1px solid black;color:black;background-color:#808080'><center>Bronchitis</center></th><th style='border:1px solid black;border-bottom-style: double;color:black;background-color:#BBBBBB'>\n",
       "      <center>no</center></th><th style='border:1px solid black;border-bottom-style: double;color:black;background-color:#BBBBBB'>\n",
       "      <center>yes</center></th></tr>\n",
       "<tr><th style='border:1px solid black;color:black;background-color:#BBBBBB;' rowspan = '2'>\n",
       "            <center>no</center></th><th style='border:1px solid black;color:black;background-color:#BBBBBB'><center>no</center></th><td style='color:black;background-color:#8bf264;text-align:right;'>0.9000</td><td style='color:black;background-color:#f28b64;text-align:right;'>0.1000</td></tr>\n",
       "<tr><th style='border:1px solid black;color:black;background-color:#BBBBBB'><center>yes</center></th><td style='color:black;background-color:#e59864;text-align:right;'>0.2000</td><td style='color:black;background-color:#98e564;text-align:right;'>0.8000</td></tr>\n",
       "<tr><th style='border:1px solid black;color:black;background-color:#BBBBBB;' rowspan = '2'>\n",
       "            <center>yes</center></th><th style='border:1px solid black;color:black;background-color:#BBBBBB'><center>no</center></th><td style='color:black;background-color:#d8a564;text-align:right;'>0.3000</td><td style='color:black;background-color:#a5d864;text-align:right;'>0.7000</td></tr>\n",
       "<tr><th style='border:1px solid black;color:black;background-color:#BBBBBB'><center>yes</center></th><td style='color:black;background-color:#f28b64;text-align:right;'>0.1000</td><td style='color:black;background-color:#8bf264;text-align:right;'>0.9000</td></tr>\n",
       "</table>"
      ],
      "text/plain": [
       "(pyAgrum.Potential<double>@00000252AAC3C930) \n",
       "             ||  Dyspnoea         |\n",
       "Bronch|Lung_C||no       |yes      |\n",
       "------|------||---------|---------|\n",
       "no    |no    || 0.9000  | 0.1000  |\n",
       "yes   |no    || 0.2000  | 0.8000  |\n",
       "no    |yes   || 0.3000  | 0.7000  |\n",
       "yes   |yes   || 0.1000  | 0.9000  |"
      ]
     },
     "execution_count": 9,
     "metadata": {},
     "output_type": "execute_result"
    }
   ],
   "source": [
    "bn.cpt(d)[{'Lung_Cancer': 0, 'Bronchitis': 0}] = [0.9, 0.1] \n",
    "bn.cpt(d)[{'Lung_Cancer': 0, 'Bronchitis': 1}] = [0.2, 0.8] \n",
    "bn.cpt(d)[{'Lung_Cancer': 1, 'Bronchitis': 0}] = [0.3, 0.7] \n",
    "bn.cpt(d)[{'Lung_Cancer': 1, 'Bronchitis': 1}] = [0.1, 0.9] \n",
    "bn.cpt(d)"
   ]
  },
  {
   "cell_type": "markdown",
   "metadata": {},
   "source": [
    "### Inference\n",
    "\n",
    "We have to choose an inference engine to perform calculations for us. Many inference engines are currently available in pyAgrum:\n",
    "\n",
    "- **Exact inference**, particularly :\n",
    "    - `gum.LazyPropagation` : an exact inference method that transforms the Bayesian network into a hypergraph called a join tree or a junction tree. This tree is constructed in order to optimize inference computations.\n",
    "    - others: `gum.VariableElimination`, `gum.ShaferShenoy`, ...\n",
    "        \n",
    "- **Samplig Inference** : approximate inference engine using sampling algorithms to generate a sequence of samples from the joint probability distribution (`gum.GibbSSampling`, etc.)\n",
    "- **Loopy Belief Propagation** : approximate inference engine using inference algorithm exact for trees but not for DAG"
   ]
  },
  {
   "cell_type": "code",
   "execution_count": 10,
   "metadata": {},
   "outputs": [],
   "source": [
    "ie=gum.LazyPropagation(bn)"
   ]
  },
  {
   "cell_type": "markdown",
   "metadata": {},
   "source": [
    "\n",
    "\n",
    "scenario 1: we know that patient was a smoker, see the likelihood of lung cancer and bronchitis\n",
    "\n",
    "scenario 2: we also observe that no dysponea"
   ]
  },
  {
   "cell_type": "code",
   "execution_count": 11,
   "metadata": {},
   "outputs": [
    {
     "data": {
      "text/html": [
       "<table style=\"border:1px solid black;\">\n",
       "<tr style='border:1px solid black;color:black;background-color:#808080'>\n",
       "      <th colspan='2'><center>Lung_Cancer</center></th></tr>\n",
       "<tr><th style='border:1px solid black;border-bottom-style: double;color:black;background-color:#BBBBBB'>\n",
       "      <center>no</center></th><th style='border:1px solid black;border-bottom-style: double;color:black;background-color:#BBBBBB'>\n",
       "      <center>yes</center></th></tr>\n",
       "<tr><td style='color:black;background-color:#8bf264;text-align:right;'>0.9000</td><td style='color:black;background-color:#f28b64;text-align:right;'>0.1000</td></tr>\n",
       "</table>"
      ],
      "text/plain": [
       "(pyAgrum.Potential<double>@00000252AFA4A7A0) \n",
       "  Lung_Cancer      |\n",
       "no       |yes      |\n",
       "---------|---------|\n",
       " 0.9000  | 0.1000  |"
      ]
     },
     "execution_count": 11,
     "metadata": {},
     "output_type": "execute_result"
    }
   ],
   "source": [
    "ie.setEvidence({'Smoking':'yes'})\n",
    "ie.makeInference()\n",
    "ie.posterior(c)"
   ]
  },
  {
   "cell_type": "code",
   "execution_count": 12,
   "metadata": {},
   "outputs": [
    {
     "data": {
      "text/html": [
       "<table style=\"border:1px solid black;\">\n",
       "<tr style='border:1px solid black;color:black;background-color:#808080'>\n",
       "      <th colspan='2'><center>Bronchitis</center></th></tr>\n",
       "<tr><th style='border:1px solid black;border-bottom-style: double;color:black;background-color:#BBBBBB'>\n",
       "      <center>no</center></th><th style='border:1px solid black;border-bottom-style: double;color:black;background-color:#BBBBBB'>\n",
       "      <center>yes</center></th></tr>\n",
       "<tr><td style='color:black;background-color:#cbb264;text-align:right;'>0.4000</td><td style='color:black;background-color:#b2cb64;text-align:right;'>0.6000</td></tr>\n",
       "</table>"
      ],
      "text/plain": [
       "(pyAgrum.Potential<double>@00000252AFA4A480) \n",
       "  Bronchitis       |\n",
       "no       |yes      |\n",
       "---------|---------|\n",
       " 0.4000  | 0.6000  |"
      ]
     },
     "execution_count": 12,
     "metadata": {},
     "output_type": "execute_result"
    }
   ],
   "source": [
    "ie.posterior(b)"
   ]
  },
  {
   "cell_type": "code",
   "execution_count": 13,
   "metadata": {},
   "outputs": [
    {
     "data": {
      "text/html": [
       "<table style=\"border:1px solid black;\">\n",
       "<tr style='border:1px solid black;color:black;background-color:#808080'>\n",
       "      <th colspan='2'><center>Lung_Cancer</center></th></tr>\n",
       "<tr><th style='border:1px solid black;border-bottom-style: double;color:black;background-color:#BBBBBB'>\n",
       "      <center>no</center></th><th style='border:1px solid black;border-bottom-style: double;color:black;background-color:#BBBBBB'>\n",
       "      <center>yes</center></th></tr>\n",
       "<tr><td style='color:black;background-color:#84f964;text-align:right;'>0.9600</td><td style='color:black;background-color:#f98464;text-align:right;'>0.0400</td></tr>\n",
       "</table>"
      ],
      "text/plain": [
       "(pyAgrum.Potential<double>@00000252AFA4AA80) \n",
       "  Lung_Cancer      |\n",
       "no       |yes      |\n",
       "---------|---------|\n",
       " 0.9600  | 0.0400  |"
      ]
     },
     "execution_count": 13,
     "metadata": {},
     "output_type": "execute_result"
    }
   ],
   "source": [
    "ie.setEvidence({'Smoking':'yes', 'Dyspnoea':'no'})\n",
    "ie.makeInference()\n",
    "ie.posterior(c)"
   ]
  },
  {
   "cell_type": "code",
   "execution_count": 14,
   "metadata": {},
   "outputs": [
    {
     "data": {
      "text/html": [
       "<table style=\"border:1px solid black;\">\n",
       "<tr style='border:1px solid black;color:black;background-color:#808080'>\n",
       "      <th colspan='2'><center>Bronchitis</center></th></tr>\n",
       "<tr><th style='border:1px solid black;border-bottom-style: double;color:black;background-color:#BBBBBB'>\n",
       "      <center>no</center></th><th style='border:1px solid black;border-bottom-style: double;color:black;background-color:#BBBBBB'>\n",
       "      <center>yes</center></th></tr>\n",
       "<tr><td style='color:black;background-color:#9fde64;text-align:right;'>0.7467</td><td style='color:black;background-color:#de9f64;text-align:right;'>0.2533</td></tr>\n",
       "</table>"
      ],
      "text/plain": [
       "(pyAgrum.Potential<double>@00000252AFA4A640) \n",
       "  Bronchitis       |\n",
       "no       |yes      |\n",
       "---------|---------|\n",
       " 0.7467  | 0.2533  |"
      ]
     },
     "execution_count": 14,
     "metadata": {},
     "output_type": "execute_result"
    }
   ],
   "source": [
    "ie.posterior(b)"
   ]
  },
  {
   "cell_type": "markdown",
   "metadata": {},
   "source": [
    "### Save BN\n",
    "\n",
    "Now our BN is complete. It can be saved in different format :\n",
    "bif|dsl|net|bifxml|o3prm|uai|xdsl"
   ]
  },
  {
   "cell_type": "code",
   "execution_count": 15,
   "metadata": {},
   "outputs": [],
   "source": [
    "gum.saveBN(bn,\"Demo.net\")"
   ]
  }
 ],
 "metadata": {
  "kernelspec": {
   "display_name": "Python 3",
   "language": "python",
   "name": "python3"
  },
  "language_info": {
   "codemirror_mode": {
    "name": "ipython",
    "version": 3
   },
   "file_extension": ".py",
   "mimetype": "text/x-python",
   "name": "python",
   "nbconvert_exporter": "python",
   "pygments_lexer": "ipython3",
   "version": "3.12.1"
  }
 },
 "nbformat": 4,
 "nbformat_minor": 2
}
