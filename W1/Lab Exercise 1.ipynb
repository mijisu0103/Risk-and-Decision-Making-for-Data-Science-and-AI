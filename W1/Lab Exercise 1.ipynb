{
 "cells": [
  {
   "cell_type": "markdown",
   "id": "7a7bf6c3-5aca-4cc0-a551-6a1fe55f3a9d",
   "metadata": {},
   "source": [
    "# Question 1"
   ]
  },
  {
   "cell_type": "markdown",
   "id": "b00f6030",
   "metadata": {},
   "source": [
    "Alice is playing Dungeons and Dragons, a game based around 20-sided dice. To beat a particularly tough monster, she must roll a number higher than the monster’s armour rating of 15.\n",
    "\n",
    "a) What is the probability that Alice rolls above 15 on her 20-sided die?\n",
    "\n",
    "b) Supposed Alice is allowed to re-roll the die once, if she doesn’t like the first result (in the game, this is called advantage). What is the probability that she rolls above 15 in either the first or the second roll?"
   ]
  },
  {
   "cell_type": "code",
   "execution_count": 1,
   "id": "ee655d21-7a57-4839-aded-33cecbb37cfd",
   "metadata": {},
   "outputs": [
    {
     "name": "stdout",
     "output_type": "stream",
     "text": [
      "Question 1:\n",
      "a) Probability Alice rolls above 15 on her first roll: 0.25\n",
      "b) Probability Alice rolls above 15 with advantage: 0.4375\n"
     ]
    }
   ],
   "source": [
    "# a) Probability Alice rolls above 15 on a 20-sided die\n",
    "prob_roll_above_15 = (20 - 15) / 20\n",
    "\n",
    "# b) Probability she rolls above 15 in either the first or second roll (advantage)\n",
    "prob_fail = 15 / 20\n",
    "prob_advantage = 1 - (prob_fail ** 2)\n",
    "\n",
    "print(\"Question 1:\")\n",
    "print(\"a) Probability Alice rolls above 15 on her first roll:\", prob_roll_above_15)\n",
    "print(\"b) Probability Alice rolls above 15 with advantage:\", prob_advantage)\n"
   ]
  },
  {
   "cell_type": "markdown",
   "id": "60819007",
   "metadata": {},
   "source": [
    "---"
   ]
  },
  {
   "cell_type": "markdown",
   "id": "1de65d24-1890-4e3a-9862-db963ab1d4ee",
   "metadata": {},
   "source": [
    "# Question 2"
   ]
  },
  {
   "cell_type": "markdown",
   "id": "dd142e6e",
   "metadata": {},
   "source": [
    "Consider a project with three critical tasks: A, B, and C. The probability of task A being completed on time is 0.8, task B is 0.7, and task C is 0.9. The tasks are independent. What is the probability that all three tasks are completed on time?"
   ]
  },
  {
   "cell_type": "code",
   "execution_count": 3,
   "id": "6a687e2b-eaac-4ca0-8cad-b5e39ec1369f",
   "metadata": {},
   "outputs": [
    {
     "name": "stdout",
     "output_type": "stream",
     "text": [
      "\n",
      "Question 2:\n",
      "Probability all three tasks are completed on time: 0.504\n"
     ]
    }
   ],
   "source": [
    "# Probability of completing all tasks on time\n",
    "prob_task_A = 0.8\n",
    "prob_task_B = 0.7\n",
    "prob_task_C = 0.9\n",
    "prob_all_tasks_on_time = prob_task_A * prob_task_B * prob_task_C\n",
    "\n",
    "print(\"\\nQuestion 2:\")\n",
    "print(\"Probability all three tasks are completed on time:\", prob_all_tasks_on_time)"
   ]
  },
  {
   "cell_type": "markdown",
   "id": "9555bdce",
   "metadata": {},
   "source": [
    "---"
   ]
  },
  {
   "cell_type": "markdown",
   "id": "0316c535-edb9-4ad0-8099-d444264b48d8",
   "metadata": {},
   "source": [
    "# Question 3"
   ]
  },
  {
   "cell_type": "markdown",
   "id": "9cf51fad",
   "metadata": {},
   "source": [
    "In a manufacturing process, a company produces two types of products, A and B. The products may be defective (D) or non-defective (ND). The company has historical data on the occurrence of defects for each product type. The probabilities are as follows:\n",
    "\n",
    "• Probability of a defective product given it is of type A is 0.03\n",
    "\n",
    "• Probability of a defective product given it is of type B is 0.05\n",
    "\n",
    "• Probability of selecting a product of type A is 0.6\n",
    "\n",
    "\n",
    "What is the probability of selecting a product of type A and it being defective?"
   ]
  },
  {
   "cell_type": "code",
   "execution_count": 4,
   "id": "078fbb5d-b789-416e-b003-ed05db4c7d80",
   "metadata": {},
   "outputs": [
    {
     "name": "stdout",
     "output_type": "stream",
     "text": [
      "\n",
      "Question 3:\n",
      "Probability of selecting a product of type A and it being defective: 0.018\n"
     ]
    }
   ],
   "source": [
    "# Probability of selecting a product of type A and it being defective\n",
    "prob_type_A = 0.6\n",
    "prob_defective_given_A = 0.03\n",
    "prob_A_and_defective = prob_type_A * prob_defective_given_A\n",
    "\n",
    "print(\"\\nQuestion 3:\")\n",
    "print(\"Probability of selecting a product of type A and it being defective:\", prob_A_and_defective)"
   ]
  },
  {
   "cell_type": "markdown",
   "id": "779c3192",
   "metadata": {},
   "source": [
    "---"
   ]
  },
  {
   "cell_type": "markdown",
   "id": "e4a1e7b6-a620-43b4-8001-0427ac68d286",
   "metadata": {},
   "source": [
    "# Question 4"
   ]
  },
  {
   "cell_type": "markdown",
   "id": "ea9acdb8",
   "metadata": {},
   "source": [
    "Jeremy wants to know whether it will rain tomorrow. He checks the weather on two channels, A and B. The weatherman on channel A says the probability of rain is 70%; the weatherman on channel B says 40%. From previous experience, Jeremy believes the probability that channel A is correct to be 40%, and the probability that channel B is correct to be 60% (i.e., only one has a correct model). What is the probability that it will rain tomorrow (hint: use the law of total probability)?"
   ]
  },
  {
   "cell_type": "code",
   "execution_count": 5,
   "id": "9427671a-d6bc-4758-bea0-dda3d3ae6428",
   "metadata": {},
   "outputs": [
    {
     "name": "stdout",
     "output_type": "stream",
     "text": [
      "\n",
      "Question 4:\n",
      "Probability it will rain tomorrow: 0.7999999999999999\n"
     ]
    }
   ],
   "source": [
    "# Using the law of total probability for rain\n",
    "prob_rain_A = 0.7\n",
    "prob_rain_B = 0.4\n",
    "prob_correct_A = 0.4\n",
    "prob_correct_B = 0.6\n",
    "prob_rain = prob_rain_A * prob_correct_A + prob_rain_B * prob_correct_B\n",
    "\n",
    "print(\"\\nQuestion 4:\")\n",
    "print(\"Probability it will rain tomorrow:\", prob_rain)"
   ]
  },
  {
   "cell_type": "markdown",
   "id": "d4d4df0a",
   "metadata": {},
   "source": [
    "---"
   ]
  },
  {
   "cell_type": "markdown",
   "id": "93e00333-6deb-4e2c-9b00-cbb47e096a44",
   "metadata": {},
   "source": [
    "# Question 5"
   ]
  },
  {
   "cell_type": "markdown",
   "id": "0705f67c",
   "metadata": {},
   "source": [
    "A company has developed a highly advanced AI system to detect fraudulent transactions. The developers are very proud. 95% of fraudulent transactions are flagged by the AI. The system unfortunately also flags 5% of legitimate transactions as fraudulent (false positives) – but as this number is quite low, the developers do not worry too much.\n",
    "\n",
    "As it turns out, 1% of all transactions are actually fraudulent.\n",
    "\n",
    "a) If the system analyzes 10,000 transactions, how many would be flagged as fraudulent in total (including both true and false positives)?\n",
    "\n",
    "b) Outofthoseflagged,howmanywouldactuallybefraudulent?Whatproportionof flagged transactions are truly fraudulent?\n",
    "\n",
    "c) Explain why the rarity of fraud affects the reliability of the AI's prediction."
   ]
  },
  {
   "cell_type": "code",
   "execution_count": 6,
   "id": "78c8d653-bc2e-46c7-b93e-45ae72043f3d",
   "metadata": {},
   "outputs": [
    {
     "name": "stdout",
     "output_type": "stream",
     "text": [
      "\n",
      "Question 5:\n",
      "a) Total number of transactions flagged as fraudulent: 590.0\n",
      "b) Number of flagged transactions that are truly fraudulent: 95.0\n",
      "   Proportion of flagged transactions that are truly fraudulent: 0.16101694915254236\n",
      "c) Explanation: The rarity of fraud significantly impacts the reliability of the AI system. Even with high accuracy in detecting fraudulent transactions, the low base rate of fraud means that the number of false positives can be large compared to true positives. This reduces the proportion of flagged transactions that are actually fraudulent, undermining confidence in the system's predictions.\n"
     ]
    }
   ],
   "source": [
    "# a) Number of transactions flagged as fraudulent\n",
    "n_transactions = 10000\n",
    "prob_fraudulent = 0.01\n",
    "prob_true_positive = 0.95\n",
    "prob_false_positive = 0.05\n",
    "prob_legitimate = 1 - prob_fraudulent\n",
    "\n",
    "n_flagged_true_positives = n_transactions * prob_fraudulent * prob_true_positive\n",
    "n_flagged_false_positives = n_transactions * prob_legitimate * prob_false_positive\n",
    "n_total_flagged = n_flagged_true_positives + n_flagged_false_positives\n",
    "\n",
    "# b) Proportion of flagged transactions that are truly fraudulent\n",
    "proportion_true_fraud = n_flagged_true_positives / n_total_flagged\n",
    "\n",
    "# c) Explanation on reliability due to rarity of fraud\n",
    "explanation = (\n",
    "    \"The rarity of fraud significantly impacts the reliability of the AI system. \"\n",
    "    \"Even with high accuracy in detecting fraudulent transactions, the low base rate of fraud means \"\n",
    "    \"that the number of false positives can be large compared to true positives. This reduces the proportion \"\n",
    "    \"of flagged transactions that are actually fraudulent, undermining confidence in the system's predictions.\"\n",
    ")\n",
    "\n",
    "print(\"\\nQuestion 5:\")\n",
    "print(\"a) Total number of transactions flagged as fraudulent:\", n_total_flagged)\n",
    "print(\"b) Number of flagged transactions that are truly fraudulent:\", n_flagged_true_positives)\n",
    "print(\"   Proportion of flagged transactions that are truly fraudulent:\", proportion_true_fraud)\n",
    "print(\"c) Explanation:\", explanation)\n"
   ]
  }
 ],
 "metadata": {
  "kernelspec": {
   "display_name": "kernel",
   "language": "python",
   "name": "jisu"
  },
  "language_info": {
   "codemirror_mode": {
    "name": "ipython",
    "version": 3
   },
   "file_extension": ".py",
   "mimetype": "text/x-python",
   "name": "python",
   "nbconvert_exporter": "python",
   "pygments_lexer": "ipython3",
   "version": "3.12.7"
  }
 },
 "nbformat": 4,
 "nbformat_minor": 5
}
