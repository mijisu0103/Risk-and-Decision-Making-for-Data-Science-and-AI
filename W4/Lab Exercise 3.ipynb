{
 "cells": [
  {
   "cell_type": "markdown",
   "id": "ddeb5439-677b-488d-bfd3-a57d940480c9",
   "metadata": {},
   "source": [
    "# Exercise 1"
   ]
  },
  {
   "cell_type": "markdown",
   "id": "35956034",
   "metadata": {},
   "source": [
    "You are a project manager overseeing two project teams (Team X and Team Y). The project completion times for the last ten projects are measured in weeks. Team X Completion Times: [9,11,10,12,10,11,11,10,12,10] Team Y Completion Times: [8,9,10,11,12,13,14,15,16,47]\n",
    "\n",
    "a) Compute the mean and median values for each team.\n",
    "\n",
    "b) Which central tendency statistics is more appropriate for each team?"
   ]
  },
  {
   "cell_type": "code",
   "execution_count": 6,
   "id": "97546832-1977-4990-b442-819793636acd",
   "metadata": {},
   "outputs": [
    {
     "name": "stdout",
     "output_type": "stream",
     "text": [
      "Team 1 mean: 10.6\n",
      "Team 1 median: 10.5\n",
      "Team 2 mean: 15.5\n",
      "Team 2 median: 12.5\n"
     ]
    }
   ],
   "source": [
    "import numpy as np\n",
    "\n",
    "team_1 = np.array([9,11,10,12,10,11,11,10,12,10])\n",
    "team_2 = np.array([8,9,10,11,12,13,14,15,16,47])\n",
    "\n",
    "# a)\n",
    "\n",
    "team_1_mean = np.mean(team_1)\n",
    "team_1_median = np.median(team_1)\n",
    "team_2_mean = np.mean(team_2)\n",
    "team_2_median = np.median(team_2)\n",
    "\n",
    "print(\"Team 1 mean:\", team_1_mean)\n",
    "print(\"Team 1 median:\", team_1_median)\n",
    "print(\"Team 2 mean:\", team_2_mean)\n",
    "print(\"Team 2 median:\", team_2_median)"
   ]
  },
  {
   "cell_type": "code",
   "execution_count": 7,
   "id": "f8e18ca6-095f-4b74-906e-92d6e2cb55c9",
   "metadata": {},
   "outputs": [
    {
     "name": "stdout",
     "output_type": "stream",
     "text": [
      "Team 1 expresses a normal distribution with mean and median close to each other, so both metrics are appropriate.\n",
      "For team 2, the distribution is skewed because of an outlier. The mean and median are further from one another,\n",
      "and the median is a better measure of central tendency.\n"
     ]
    }
   ],
   "source": [
    "# b) \n",
    "\n",
    "print(\"\"\"Team 1 expresses a normal distribution with mean and median close to each other, so both metrics are appropriate.\n",
    "For team 2, the distribution is skewed because of an outlier. The mean and median are further from one another,\n",
    "and the median is a better measure of central tendency.\"\"\")"
   ]
  },
  {
   "cell_type": "markdown",
   "id": "22bbbf19-8a3b-4e8d-83e4-0ce07726ce33",
   "metadata": {},
   "source": [
    "# Exercise 2"
   ]
  },
  {
   "cell_type": "markdown",
   "id": "60833884",
   "metadata": {},
   "source": [
    "On the module page, you will find a csv file containing information on all the passengers who boarded the Titanic. Load the csv file into Python – we recommend the Pandas package. \n",
    "\n",
    "a) Compute the mean fare paid by passengers.\n",
    "\n",
    "James is doing historical research for a movie about the disaster, and spends some time looking at pictures of the passengers. He notices that first class passengers appear to be older, and wants to find out whether this observation is true.\n",
    "\n",
    "b) Compute the Pearson correlation between Age and Pclass in the Titanic dataset.\n",
    "\n",
    "c) Use linear regression to predict the fare paid based on the passenger age. Plot the trendline\n",
    "together with the data points (we recommend using PyPlot). Do you think this trend is a close fit?\n"
   ]
  },
  {
   "cell_type": "code",
   "execution_count": 9,
   "id": "c373fd04-e6ac-450e-9a6e-98cbf4d1db64",
   "metadata": {},
   "outputs": [
    {
     "data": {
      "text/html": [
       "<div>\n",
       "<style scoped>\n",
       "    .dataframe tbody tr th:only-of-type {\n",
       "        vertical-align: middle;\n",
       "    }\n",
       "\n",
       "    .dataframe tbody tr th {\n",
       "        vertical-align: top;\n",
       "    }\n",
       "\n",
       "    .dataframe thead th {\n",
       "        text-align: right;\n",
       "    }\n",
       "</style>\n",
       "<table border=\"1\" class=\"dataframe\">\n",
       "  <thead>\n",
       "    <tr style=\"text-align: right;\">\n",
       "      <th></th>\n",
       "      <th>PassengerId</th>\n",
       "      <th>Survived</th>\n",
       "      <th>Pclass</th>\n",
       "      <th>Name</th>\n",
       "      <th>Sex</th>\n",
       "      <th>Age</th>\n",
       "      <th>SibSp</th>\n",
       "      <th>Parch</th>\n",
       "      <th>Ticket</th>\n",
       "      <th>Fare</th>\n",
       "      <th>Cabin</th>\n",
       "      <th>Embarked</th>\n",
       "    </tr>\n",
       "  </thead>\n",
       "  <tbody>\n",
       "    <tr>\n",
       "      <th>0</th>\n",
       "      <td>1</td>\n",
       "      <td>0</td>\n",
       "      <td>3</td>\n",
       "      <td>Braund, Mr. Owen Harris</td>\n",
       "      <td>male</td>\n",
       "      <td>22.0</td>\n",
       "      <td>1</td>\n",
       "      <td>0</td>\n",
       "      <td>A/5 21171</td>\n",
       "      <td>7.2500</td>\n",
       "      <td>NaN</td>\n",
       "      <td>S</td>\n",
       "    </tr>\n",
       "    <tr>\n",
       "      <th>1</th>\n",
       "      <td>2</td>\n",
       "      <td>1</td>\n",
       "      <td>1</td>\n",
       "      <td>Cumings, Mrs. John Bradley (Florence Briggs Th...</td>\n",
       "      <td>female</td>\n",
       "      <td>38.0</td>\n",
       "      <td>1</td>\n",
       "      <td>0</td>\n",
       "      <td>PC 17599</td>\n",
       "      <td>71.2833</td>\n",
       "      <td>C85</td>\n",
       "      <td>C</td>\n",
       "    </tr>\n",
       "    <tr>\n",
       "      <th>2</th>\n",
       "      <td>3</td>\n",
       "      <td>1</td>\n",
       "      <td>3</td>\n",
       "      <td>Heikkinen, Miss. Laina</td>\n",
       "      <td>female</td>\n",
       "      <td>26.0</td>\n",
       "      <td>0</td>\n",
       "      <td>0</td>\n",
       "      <td>STON/O2. 3101282</td>\n",
       "      <td>7.9250</td>\n",
       "      <td>NaN</td>\n",
       "      <td>S</td>\n",
       "    </tr>\n",
       "    <tr>\n",
       "      <th>3</th>\n",
       "      <td>4</td>\n",
       "      <td>1</td>\n",
       "      <td>1</td>\n",
       "      <td>Futrelle, Mrs. Jacques Heath (Lily May Peel)</td>\n",
       "      <td>female</td>\n",
       "      <td>35.0</td>\n",
       "      <td>1</td>\n",
       "      <td>0</td>\n",
       "      <td>113803</td>\n",
       "      <td>53.1000</td>\n",
       "      <td>C123</td>\n",
       "      <td>S</td>\n",
       "    </tr>\n",
       "    <tr>\n",
       "      <th>4</th>\n",
       "      <td>5</td>\n",
       "      <td>0</td>\n",
       "      <td>3</td>\n",
       "      <td>Allen, Mr. William Henry</td>\n",
       "      <td>male</td>\n",
       "      <td>35.0</td>\n",
       "      <td>0</td>\n",
       "      <td>0</td>\n",
       "      <td>373450</td>\n",
       "      <td>8.0500</td>\n",
       "      <td>NaN</td>\n",
       "      <td>S</td>\n",
       "    </tr>\n",
       "    <tr>\n",
       "      <th>...</th>\n",
       "      <td>...</td>\n",
       "      <td>...</td>\n",
       "      <td>...</td>\n",
       "      <td>...</td>\n",
       "      <td>...</td>\n",
       "      <td>...</td>\n",
       "      <td>...</td>\n",
       "      <td>...</td>\n",
       "      <td>...</td>\n",
       "      <td>...</td>\n",
       "      <td>...</td>\n",
       "      <td>...</td>\n",
       "    </tr>\n",
       "    <tr>\n",
       "      <th>885</th>\n",
       "      <td>886</td>\n",
       "      <td>0</td>\n",
       "      <td>3</td>\n",
       "      <td>Rice, Mrs. William (Margaret Norton)</td>\n",
       "      <td>female</td>\n",
       "      <td>39.0</td>\n",
       "      <td>0</td>\n",
       "      <td>5</td>\n",
       "      <td>382652</td>\n",
       "      <td>29.1250</td>\n",
       "      <td>NaN</td>\n",
       "      <td>Q</td>\n",
       "    </tr>\n",
       "    <tr>\n",
       "      <th>886</th>\n",
       "      <td>887</td>\n",
       "      <td>0</td>\n",
       "      <td>2</td>\n",
       "      <td>Montvila, Rev. Juozas</td>\n",
       "      <td>male</td>\n",
       "      <td>27.0</td>\n",
       "      <td>0</td>\n",
       "      <td>0</td>\n",
       "      <td>211536</td>\n",
       "      <td>13.0000</td>\n",
       "      <td>NaN</td>\n",
       "      <td>S</td>\n",
       "    </tr>\n",
       "    <tr>\n",
       "      <th>887</th>\n",
       "      <td>888</td>\n",
       "      <td>1</td>\n",
       "      <td>1</td>\n",
       "      <td>Graham, Miss. Margaret Edith</td>\n",
       "      <td>female</td>\n",
       "      <td>19.0</td>\n",
       "      <td>0</td>\n",
       "      <td>0</td>\n",
       "      <td>112053</td>\n",
       "      <td>30.0000</td>\n",
       "      <td>B42</td>\n",
       "      <td>S</td>\n",
       "    </tr>\n",
       "    <tr>\n",
       "      <th>889</th>\n",
       "      <td>890</td>\n",
       "      <td>1</td>\n",
       "      <td>1</td>\n",
       "      <td>Behr, Mr. Karl Howell</td>\n",
       "      <td>male</td>\n",
       "      <td>26.0</td>\n",
       "      <td>0</td>\n",
       "      <td>0</td>\n",
       "      <td>111369</td>\n",
       "      <td>30.0000</td>\n",
       "      <td>C148</td>\n",
       "      <td>C</td>\n",
       "    </tr>\n",
       "    <tr>\n",
       "      <th>890</th>\n",
       "      <td>891</td>\n",
       "      <td>0</td>\n",
       "      <td>3</td>\n",
       "      <td>Dooley, Mr. Patrick</td>\n",
       "      <td>male</td>\n",
       "      <td>32.0</td>\n",
       "      <td>0</td>\n",
       "      <td>0</td>\n",
       "      <td>370376</td>\n",
       "      <td>7.7500</td>\n",
       "      <td>NaN</td>\n",
       "      <td>Q</td>\n",
       "    </tr>\n",
       "  </tbody>\n",
       "</table>\n",
       "<p>714 rows × 12 columns</p>\n",
       "</div>"
      ],
      "text/plain": [
       "     PassengerId  Survived  Pclass  \\\n",
       "0              1         0       3   \n",
       "1              2         1       1   \n",
       "2              3         1       3   \n",
       "3              4         1       1   \n",
       "4              5         0       3   \n",
       "..           ...       ...     ...   \n",
       "885          886         0       3   \n",
       "886          887         0       2   \n",
       "887          888         1       1   \n",
       "889          890         1       1   \n",
       "890          891         0       3   \n",
       "\n",
       "                                                  Name     Sex   Age  SibSp  \\\n",
       "0                              Braund, Mr. Owen Harris    male  22.0      1   \n",
       "1    Cumings, Mrs. John Bradley (Florence Briggs Th...  female  38.0      1   \n",
       "2                               Heikkinen, Miss. Laina  female  26.0      0   \n",
       "3         Futrelle, Mrs. Jacques Heath (Lily May Peel)  female  35.0      1   \n",
       "4                             Allen, Mr. William Henry    male  35.0      0   \n",
       "..                                                 ...     ...   ...    ...   \n",
       "885               Rice, Mrs. William (Margaret Norton)  female  39.0      0   \n",
       "886                              Montvila, Rev. Juozas    male  27.0      0   \n",
       "887                       Graham, Miss. Margaret Edith  female  19.0      0   \n",
       "889                              Behr, Mr. Karl Howell    male  26.0      0   \n",
       "890                                Dooley, Mr. Patrick    male  32.0      0   \n",
       "\n",
       "     Parch            Ticket     Fare Cabin Embarked  \n",
       "0        0         A/5 21171   7.2500   NaN        S  \n",
       "1        0          PC 17599  71.2833   C85        C  \n",
       "2        0  STON/O2. 3101282   7.9250   NaN        S  \n",
       "3        0            113803  53.1000  C123        S  \n",
       "4        0            373450   8.0500   NaN        S  \n",
       "..     ...               ...      ...   ...      ...  \n",
       "885      5            382652  29.1250   NaN        Q  \n",
       "886      0            211536  13.0000   NaN        S  \n",
       "887      0            112053  30.0000   B42        S  \n",
       "889      0            111369  30.0000  C148        C  \n",
       "890      0            370376   7.7500   NaN        Q  \n",
       "\n",
       "[714 rows x 12 columns]"
      ]
     },
     "execution_count": 9,
     "metadata": {},
     "output_type": "execute_result"
    }
   ],
   "source": [
    "import pandas as pd\n",
    "\n",
    "file_path = 'titanic.csv'\n",
    "df = pd.read_csv(file_path)\n",
    "\n",
    "# a)\n",
    "# Drop nan values:\n",
    "df = df[df['Age'].notna()]\n",
    "titanic_df = df[df['Fare'].notna()]\n",
    "\n",
    "# Display the DataFrame\n",
    "titanic_df"
   ]
  },
  {
   "cell_type": "code",
   "execution_count": 12,
   "id": "653c32d5-db65-4e40-9f5f-71fd2d6272f4",
   "metadata": {},
   "outputs": [
    {
     "name": "stdout",
     "output_type": "stream",
     "text": [
      "Mean Fare for All Passengers: 34.694514005602244\n"
     ]
    }
   ],
   "source": [
    "# b)\n",
    "mean_fare = titanic_df['Fare'].mean()\n",
    "print(\"Mean Fare for All Passengers:\", mean_fare)"
   ]
  },
  {
   "cell_type": "code",
   "execution_count": 13,
   "id": "f87632c1-34b9-42c1-b098-70aa20526298",
   "metadata": {},
   "outputs": [
    {
     "data": {
      "text/plain": [
       "-0.3692260153155173"
      ]
     },
     "execution_count": 13,
     "metadata": {},
     "output_type": "execute_result"
    }
   ],
   "source": [
    "# c) \n",
    "titanic_df['Age'].corr(titanic_df['Pclass'])"
   ]
  },
  {
   "cell_type": "code",
   "execution_count": 14,
   "id": "46b0651f-f496-4b20-9b16-d95928d1692c",
   "metadata": {},
   "outputs": [
    {
     "name": "stdout",
     "output_type": "stream",
     "text": [
      "Regression Equation: Fare = 0.35 * Age + 24.30\n"
     ]
    }
   ],
   "source": [
    "import numpy as np\n",
    "\n",
    "# d)\n",
    "\n",
    "# Extract 'Fare' and 'Age' columns\n",
    "fare = np.array(titanic_df['Fare']).reshape(titanic_df.shape[0], 1)\n",
    "age = np.array(titanic_df['Age']).reshape(titanic_df.shape[0], 1)\n",
    "\n",
    "X = np.append(age, np.ones((age.shape[0], 1)), axis=1)\n",
    "theta = np.linalg.lstsq(X, fare, rcond=None)[0]\n",
    "\n",
    "slope = theta[0][0]\n",
    "intercept = theta[1][0]\n",
    "\n",
    "# Display the regression coefficients\n",
    "print(f\"Regression Equation: Fare = {slope:.2f} * Age + {intercept:.2f}\")"
   ]
  },
  {
   "cell_type": "code",
   "execution_count": 15,
   "id": "047ec4fb-0c31-4b17-90d8-781e3cea4ec4",
   "metadata": {},
   "outputs": [
    {
     "data": {
      "image/png": "[encoded data removed]",
      "text/plain": [
       "<Figure size 640x480 with 1 Axes>"
      ]
     },
     "metadata": {},
     "output_type": "display_data"
    }
   ],
   "source": [
    "import matplotlib.pyplot as plt\n",
    "\n",
    "plt.scatter(age, fare, label='Data points')\n",
    "plt.plot(age, slope * age + intercept, color='red', label='Regression line')\n",
    "plt.xlabel('Age')\n",
    "plt.ylabel('Fare')\n",
    "plt.legend()\n",
    "plt.show()"
   ]
  },
  {
   "cell_type": "code",
   "execution_count": null,
   "id": "cc867a84-7a18-4e31-acac-74c4b2489232",
   "metadata": {},
   "outputs": [
    {
     "data": {
      "text/plain": [
       "1.0000000000000024"
      ]
     },
     "execution_count": 18,
     "metadata": {},
     "output_type": "execute_result"
    }
   ],
   "source": [
    "# One way to show the fitness of the function is to measure the error.\n",
    "# To give a precise measurement, this would be the way:\n",
    "\n",
    "residuals = np.linalg.lstsq(X, age, rcond=None)[0]\n",
    "error = np.sum(residuals)\n",
    "\n",
    "error\n",
    "\n",
    "# This error is quite high; the fit is not great."
   ]
  },
  {
   "cell_type": "markdown",
   "id": "a81345a2-5a29-4d54-8bf5-1396ee561da2",
   "metadata": {},
   "source": [
    "# Question 3"
   ]
  },
  {
   "cell_type": "markdown",
   "id": "c482ec02",
   "metadata": {},
   "source": [
    "A headline reads as follows: \"A study finds that growing your own vegetables increases CO2 output\". Could this headline be misleading? Draw a Bayes net for the relationship suggested by the headline, and propose an alternative, more plausible diagram.\n",
    "\n",
    "Note: This is an open-ended question."
   ]
  },
  {
   "cell_type": "code",
   "execution_count": 19,
   "id": "07e44762-e8a0-4aeb-828f-f6d7d185e655",
   "metadata": {},
   "outputs": [
    {
     "data": {
      "image/svg+xml": [
       "<svg xmlns=\"http://www.w3.org/2000/svg\" xmlns:xlink=\"http://www.w3.org/1999/xlink\" width=\"121pt\" height=\"116pt\" viewBox=\"0.00 0.00 120.56 116.00\">\n",
       "<g id=\"graph0\" class=\"graph\" transform=\"scale(1 1) rotate(0) translate(4 112)\">\n",
       "<title>G</title>\n",
       "<!-- HomeGrown -->\n",
       "<g id=\"node1\" class=\"node\">\n",
       "<title>HomeGrown</title>\n",
       "<g id=\"a_node1\"><a xlink:title=\"(0) HomeGrown\">\n",
       "<ellipse fill=\"#404040\" stroke=\"#4a4a4a\" cx=\"56.28\" cy=\"-90\" rx=\"56.06\" ry=\"18\"/>\n",
       "<text text-anchor=\"middle\" x=\"56.28\" y=\"-85.8\" font-family=\"Times,serif\" font-size=\"14.00\" fill=\"white\">HomeGrown</text>\n",
       "</a>\n",
       "</g>\n",
       "</g>\n",
       "<!-- CO2_output -->\n",
       "<g id=\"node2\" class=\"node\">\n",
       "<title>CO2_output</title>\n",
       "<g id=\"a_node2\"><a xlink:title=\"(1) CO2_output\">\n",
       "<ellipse fill=\"#404040\" stroke=\"#4a4a4a\" cx=\"56.28\" cy=\"-18\" rx=\"53.67\" ry=\"18\"/>\n",
       "<text text-anchor=\"middle\" x=\"56.28\" y=\"-13.8\" font-family=\"Times,serif\" font-size=\"14.00\" fill=\"white\">CO2_output</text>\n",
       "</a>\n",
       "</g>\n",
       "</g>\n",
       "<!-- HomeGrown&#45;&gt;CO2_output -->\n",
       "<g id=\"edge1\" class=\"edge\">\n",
       "<title>HomeGrown-&gt;CO2_output</title>\n",
       "<g id=\"a_edge1\"><a xlink:title=\"0 → 1\">\n",
       "<path fill=\"none\" stroke=\"#4a4a4a\" d=\"M56.28,-71.7C56.28,-63.98 56.28,-54.71 56.28,-46.11\"/>\n",
       "<polygon fill=\"#4a4a4a\" stroke=\"#4a4a4a\" points=\"59.78,-46.1 56.28,-36.1 52.78,-46.1 59.78,-46.1\"/>\n",
       "</a>\n",
       "</g>\n",
       "</g>\n",
       "</g>\n",
       "</svg>"
      ],
      "text/plain": [
       "<IPython.core.display.SVG object>"
      ]
     },
     "metadata": {},
     "output_type": "display_data"
    }
   ],
   "source": [
    "import pyAgrum as gum\n",
    "import pyAgrum.lib.notebook as gnb\n",
    "\n",
    "# Create a Bayesian network\n",
    "bn1 = gum.BayesNet('Vegetables')\n",
    "\n",
    "# Define the variables\n",
    "HomeGrown = bn1.add(gum.LabelizedVariable('HomeGrown', 'Grows Vegetables at Home', ['No', 'Yes']))\n",
    "CO2_output = bn1.add(gum.LabelizedVariable('CO2_output', 'CO2 Output', ['Low', 'High']))\n",
    "\n",
    "bn1.addArc(HomeGrown, CO2_output)\n",
    "\n",
    "gnb.showBN(bn1)"
   ]
  },
  {
   "cell_type": "code",
   "execution_count": 20,
   "id": "7d3a16bb-329b-47b0-8b30-5e5554b3b6cc",
   "metadata": {},
   "outputs": [
    {
     "data": {
      "image/svg+xml": [
       "<svg xmlns=\"http://www.w3.org/2000/svg\" xmlns:xlink=\"http://www.w3.org/1999/xlink\" width=\"246pt\" height=\"188pt\" viewBox=\"0.00 0.00 246.12 188.00\">\n",
       "<g id=\"graph0\" class=\"graph\" transform=\"scale(1 1) rotate(0) translate(4 184)\">\n",
       "<title>G</title>\n",
       "<!-- OwnsGarden -->\n",
       "<g id=\"node1\" class=\"node\">\n",
       "<title>OwnsGarden</title>\n",
       "<g id=\"a_node1\"><a xlink:title=\"(1) OwnsGarden\">\n",
       "<ellipse fill=\"#404040\" stroke=\"#4a4a4a\" cx=\"58.28\" cy=\"-90\" rx=\"56.54\" ry=\"18\"/>\n",
       "<text text-anchor=\"middle\" x=\"58.28\" y=\"-85.8\" font-family=\"Times,serif\" font-size=\"14.00\" fill=\"white\">OwnsGarden</text>\n",
       "</a>\n",
       "</g>\n",
       "</g>\n",
       "<!-- HomeGrown -->\n",
       "<g id=\"node4\" class=\"node\">\n",
       "<title>HomeGrown</title>\n",
       "<g id=\"a_node4\"><a xlink:title=\"(3) HomeGrown\">\n",
       "<ellipse fill=\"#404040\" stroke=\"#4a4a4a\" cx=\"56.28\" cy=\"-18\" rx=\"56.06\" ry=\"18\"/>\n",
       "<text text-anchor=\"middle\" x=\"56.28\" y=\"-13.8\" font-family=\"Times,serif\" font-size=\"14.00\" fill=\"white\">HomeGrown</text>\n",
       "</a>\n",
       "</g>\n",
       "</g>\n",
       "<!-- OwnsGarden&#45;&gt;HomeGrown -->\n",
       "<g id=\"edge3\" class=\"edge\">\n",
       "<title>OwnsGarden-&gt;HomeGrown</title>\n",
       "<g id=\"a_edge3\"><a xlink:title=\"1 → 3\">\n",
       "<path fill=\"none\" stroke=\"#4a4a4a\" d=\"M57.79,-71.7C57.57,-63.98 57.3,-54.71 57.05,-46.11\"/>\n",
       "<polygon fill=\"#4a4a4a\" stroke=\"#4a4a4a\" points=\"60.55,-46 56.77,-36.1 53.56,-46.2 60.55,-46\"/>\n",
       "</a>\n",
       "</g>\n",
       "</g>\n",
       "<!-- DrivesCar -->\n",
       "<g id=\"node2\" class=\"node\">\n",
       "<title>DrivesCar</title>\n",
       "<g id=\"a_node2\"><a xlink:title=\"(2) DrivesCar\">\n",
       "<ellipse fill=\"#404040\" stroke=\"#4a4a4a\" cx=\"182.28\" cy=\"-90\" rx=\"46.4\" ry=\"18\"/>\n",
       "<text text-anchor=\"middle\" x=\"182.28\" y=\"-85.8\" font-family=\"Times,serif\" font-size=\"14.00\" fill=\"white\">DrivesCar</text>\n",
       "</a>\n",
       "</g>\n",
       "</g>\n",
       "<!-- CO2_output -->\n",
       "<g id=\"node5\" class=\"node\">\n",
       "<title>CO2_output</title>\n",
       "<g id=\"a_node5\"><a xlink:title=\"(4) CO2_output\">\n",
       "<ellipse fill=\"#404040\" stroke=\"#4a4a4a\" cx=\"184.28\" cy=\"-18\" rx=\"53.67\" ry=\"18\"/>\n",
       "<text text-anchor=\"middle\" x=\"184.28\" y=\"-13.8\" font-family=\"Times,serif\" font-size=\"14.00\" fill=\"white\">CO2_output</text>\n",
       "</a>\n",
       "</g>\n",
       "</g>\n",
       "<!-- DrivesCar&#45;&gt;CO2_output -->\n",
       "<g id=\"edge4\" class=\"edge\">\n",
       "<title>DrivesCar-&gt;CO2_output</title>\n",
       "<g id=\"a_edge4\"><a xlink:title=\"2 → 4\">\n",
       "<path fill=\"none\" stroke=\"#4a4a4a\" d=\"M182.77,-71.7C183,-63.98 183.26,-54.71 183.51,-46.11\"/>\n",
       "<polygon fill=\"#4a4a4a\" stroke=\"#4a4a4a\" points=\"187,-46.2 183.79,-36.1 180.01,-46 187,-46.2\"/>\n",
       "</a>\n",
       "</g>\n",
       "</g>\n",
       "<!-- Suburbs -->\n",
       "<g id=\"node3\" class=\"node\">\n",
       "<title>Suburbs</title>\n",
       "<g id=\"a_node3\"><a xlink:title=\"(0) Suburbs\">\n",
       "<ellipse fill=\"#404040\" stroke=\"#4a4a4a\" cx=\"120.28\" cy=\"-162\" rx=\"39.2\" ry=\"18\"/>\n",
       "<text text-anchor=\"middle\" x=\"120.28\" y=\"-157.8\" font-family=\"Times,serif\" font-size=\"14.00\" fill=\"white\">Suburbs</text>\n",
       "</a>\n",
       "</g>\n",
       "</g>\n",
       "<!-- Suburbs&#45;&gt;OwnsGarden -->\n",
       "<g id=\"edge1\" class=\"edge\">\n",
       "<title>Suburbs-&gt;OwnsGarden</title>\n",
       "<g id=\"a_edge1\"><a xlink:title=\"0 → 1\">\n",
       "<path fill=\"none\" stroke=\"#4a4a4a\" d=\"M106.21,-145.12C98.43,-136.33 88.6,-125.23 79.86,-115.37\"/>\n",
       "<polygon fill=\"#4a4a4a\" stroke=\"#4a4a4a\" points=\"82.41,-112.96 73.16,-107.8 77.17,-117.6 82.41,-112.96\"/>\n",
       "</a>\n",
       "</g>\n",
       "</g>\n",
       "<!-- Suburbs&#45;&gt;DrivesCar -->\n",
       "<g id=\"edge2\" class=\"edge\">\n",
       "<title>Suburbs-&gt;DrivesCar</title>\n",
       "<g id=\"a_edge2\"><a xlink:title=\"0 → 2\">\n",
       "<path fill=\"none\" stroke=\"#4a4a4a\" d=\"M134.35,-145.12C142.24,-136.2 152.25,-124.91 161.07,-114.94\"/>\n",
       "<polygon fill=\"#4a4a4a\" stroke=\"#4a4a4a\" points=\"163.83,-117.11 167.84,-107.31 158.59,-112.47 163.83,-117.11\"/>\n",
       "</a>\n",
       "</g>\n",
       "</g>\n",
       "</g>\n",
       "</svg>"
      ],
      "text/plain": [
       "<IPython.core.display.SVG object>"
      ]
     },
     "metadata": {},
     "output_type": "display_data"
    }
   ],
   "source": [
    "# Create a Bayesian network\n",
    "bn1 = gum.BayesNet('Vegetables')\n",
    "\n",
    "# Define the variables\n",
    "Suburbs = bn1.add(gum.LabelizedVariable('Suburbs', 'Lives in Suburbs', ['No', 'Yes']))\n",
    "OwnsGarden = bn1.add(gum.LabelizedVariable('OwnsGarden', 'Owns a garden', ['No', 'Yes']))\n",
    "DrivesCar = bn1.add(gum.LabelizedVariable('DrivesCar', 'Drives Car', ['No', 'Yes']))\n",
    "HomeGrown = bn1.add(gum.LabelizedVariable('HomeGrown', 'Grows Vegetables at Home', ['No', 'Yes']))\n",
    "CO2_output = bn1.add(gum.LabelizedVariable('CO2_output', 'CO2 Output', ['Low', 'High']))\n",
    "\n",
    "bn1.addArc(Suburbs, OwnsGarden)\n",
    "bn1.addArc(OwnsGarden, HomeGrown)\n",
    "bn1.addArc(Suburbs, DrivesCar)\n",
    "bn1.addArc(DrivesCar, CO2_output)\n",
    "\n",
    "gnb.showBN(bn1)"
   ]
  },
  {
   "cell_type": "code",
   "execution_count": 1,
   "id": "4736ee63-022e-45af-9eee-7cd32f08eb74",
   "metadata": {},
   "outputs": [
    {
     "name": "stdout",
     "output_type": "stream",
     "text": [
      "HomeGrown and CO2_output are both caused by factors further up in the causal chain.\n",
      "\n",
      "The *choice of structure* and *choice of variables* is another source of subjectivity in statistical reasoning\n"
     ]
    }
   ],
   "source": [
    "print(\"\"\"HomeGrown and CO2_output are both caused by factors further up in the causal chain.\n",
    "\n",
    "The *choice of structure* and *choice of variables* is another source of subjectivity in statistical reasoning\"\"\")"
   ]
  }
 ],
 "metadata": {
  "kernelspec": {
   "display_name": "base",
   "language": "python",
   "name": "python3"
  },
  "language_info": {
   "codemirror_mode": {
    "name": "ipython",
    "version": 3
   },
   "file_extension": ".py",
   "mimetype": "text/x-python",
   "name": "python",
   "nbconvert_exporter": "python",
   "pygments_lexer": "ipython3",
   "version": "3.12.2"
  }
 },
 "nbformat": 4,
 "nbformat_minor": 5
}
